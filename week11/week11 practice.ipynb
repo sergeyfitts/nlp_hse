{
 "cells": [
  {
   "cell_type": "markdown",
   "metadata": {},
   "source": [
    "[Сравнение моделей](https://github.com/natasha/naeval)"
   ]
  },
  {
   "cell_type": "markdown",
   "metadata": {},
   "source": [
    "### Natasha"
   ]
  },
  {
   "cell_type": "code",
   "execution_count": 130,
   "metadata": {},
   "outputs": [],
   "source": [
    "from natasha import (Segmenter,\n",
    "                     NewsEmbedding,\n",
    "                     NewsMorphTagger,\n",
    "                     NewsSyntaxParser,\n",
    "                     Doc)"
   ]
  },
  {
   "cell_type": "code",
   "execution_count": 131,
   "metadata": {},
   "outputs": [],
   "source": [
    "segmenter = Segmenter()\n",
    "\n",
    "emb = NewsEmbedding()\n",
    "\n",
    "morph_tagger = NewsMorphTagger(emb)\n",
    "\n",
    "syntax_parser = NewsSyntaxParser(emb)"
   ]
  },
  {
   "cell_type": "code",
   "execution_count": 184,
   "metadata": {},
   "outputs": [],
   "source": [
    "text = u'''Сегодня эмблему компании наверняка узнаёт множество людей, ведь корпорация apple \n",
    "стала действительно одной из самых успешных компаний с рыночной стоимостью 1 286 млрд. доллар\n",
    "\n",
    "Компанию основали 1 апреля 1976 года Стив Возняк, рональд уэйн, а также Стив Джобс. \n",
    "Первоначально троица занялась сборкой домашних компьютеров и выпуском собственных моделей ПК,\n",
    "но наибольший успех пришёлся именно на последние годы компании, когда Apple представила миру линейки \n",
    "своих мобильных продуктов — смартфоны iPhone и планшеты iPad. МВД России. Москва. москва'''"
   ]
  },
  {
   "cell_type": "code",
   "execution_count": 185,
   "metadata": {},
   "outputs": [],
   "source": [
    "doc = Doc(text)\n",
    "\n",
    "doc.segment(segmenter)\n",
    "doc.tag_morph(morph_tagger)\n",
    "doc.parse_syntax(syntax_parser)"
   ]
  },
  {
   "cell_type": "code",
   "execution_count": 186,
   "metadata": {},
   "outputs": [],
   "source": [
    "sent = doc.sents[0]"
   ]
  },
  {
   "cell_type": "code",
   "execution_count": 187,
   "metadata": {},
   "outputs": [
    {
     "name": "stdout",
     "output_type": "stream",
     "text": [
      "             Сегодня ADV|Degree=Pos\n",
      "             эмблему NOUN|Animacy=Inan|Case=Acc|Gender=Fem|Number=Sing\n",
      "            компании NOUN|Animacy=Inan|Case=Gen|Gender=Fem|Number=Sing\n",
      "           наверняка ADV|Degree=Pos\n",
      "              узнаёт VERB|Aspect=Imp|Mood=Ind|Number=Sing|Person=3|Tense=Pres|VerbForm=Fin|Voice=Act\n",
      "           множество NOUN|Animacy=Inan|Case=Acc|Gender=Neut|Number=Sing\n",
      "               людей NOUN|Animacy=Anim|Case=Gen|Gender=Masc|Number=Plur\n",
      "                   , PUNCT\n",
      "                ведь SCONJ\n",
      "          корпорация NOUN|Animacy=Inan|Case=Nom|Gender=Fem|Number=Sing\n",
      "               apple PROPN|Foreign=Yes\n",
      "               стала VERB|Aspect=Perf|Gender=Fem|Mood=Ind|Number=Sing|Tense=Past|VerbForm=Fin|Voice=Act\n",
      "       действительно ADV|Degree=Pos\n",
      "               одной NUM|Case=Ins|Gender=Fem|Number=Sing\n",
      "                  из ADP\n",
      "               самых ADJ|Case=Gen|Degree=Pos|Number=Plur\n",
      "            успешных ADJ|Case=Gen|Degree=Pos|Number=Plur\n",
      "            компаний NOUN|Animacy=Inan|Case=Gen|Gender=Fem|Number=Plur\n",
      "                   с ADP\n",
      "            рыночной ADJ|Case=Ins|Degree=Pos|Gender=Fem|Number=Sing\n",
      "          стоимостью NOUN|Animacy=Inan|Case=Ins|Gender=Fem|Number=Sing\n",
      "                   1 NUM\n",
      "                 286 NUM\n",
      "                млрд NOUN|Animacy=Inan|Case=Gen|Gender=Masc|Number=Plur\n",
      "                   . PUNCT\n",
      "              доллар NOUN|Animacy=Inan|Case=Acc|Gender=Masc|Number=Sing\n",
      "            Компанию PROPN|Animacy=Inan|Case=Acc|Gender=Fem|Number=Sing\n",
      "            основали VERB|Aspect=Perf|Mood=Ind|Number=Plur|Tense=Past|VerbForm=Fin|Voice=Act\n",
      "                   1 ADJ\n",
      "              апреля NOUN|Animacy=Inan|Case=Gen|Gender=Masc|Number=Sing\n",
      "                1976 ADJ\n",
      "                года NOUN|Animacy=Inan|Case=Gen|Gender=Masc|Number=Sing\n",
      "                Стив PROPN|Animacy=Anim|Case=Nom|Gender=Masc|Number=Sing\n",
      "              Возняк PROPN|Animacy=Anim|Case=Nom|Gender=Masc|Number=Sing\n",
      "                   , PUNCT\n",
      "             рональд NOUN|Animacy=Anim|Case=Nom|Gender=Masc|Number=Sing\n",
      "                уэйн NOUN|Animacy=Anim|Case=Nom|Gender=Masc|Number=Sing\n",
      "                   , PUNCT\n",
      "                   а CCONJ\n",
      "               также ADV|Degree=Pos\n",
      "                Стив PROPN|Animacy=Anim|Case=Nom|Gender=Masc|Number=Sing\n",
      "               Джобс PROPN|Animacy=Anim|Case=Nom|Gender=Masc|Number=Sing\n",
      "                   . PUNCT\n"
     ]
    }
   ],
   "source": [
    "sent.morph.print()"
   ]
  },
  {
   "cell_type": "code",
   "execution_count": 188,
   "metadata": {},
   "outputs": [
    {
     "name": "stdout",
     "output_type": "stream",
     "text": [
      "            ┌────► Сегодня       advmod\n",
      "            │ ┌►┌─ эмблему       obj\n",
      "            │ │ └► компании      nmod\n",
      "            │ │ ┌► наверняка     advmod\n",
      "    ┌─┌─┌─┌─└─└─└─ узнаёт        \n",
      "┌───│ │ │ │ │ └►┌─ множество     obj\n",
      "│   │ │ │ │ │   └► людей         nmod\n",
      "│   │ │ │ │ └────► ,             punct\n",
      "│   │ │ │ └──────► ведь          mark\n",
      "│   │ │ └──────►┌─ корпорация    nsubj\n",
      "│   │ │         └► apple         appos\n",
      "│ ┌─│ │       ┌─── стала         \n",
      "│ │ │ │       │ ┌► действительно advmod\n",
      "│ │ │ │   ┌───└►└─ одной         xcomp\n",
      "│ │ │ │   │ ┌────► из            case\n",
      "│ │ │ │   │ │   ┌► самых         amod\n",
      "│ │ │ │   │ │ ┌►└─ успешных      amod\n",
      "│ │ │ │   └►└─└─── компаний      nmod\n",
      "│ │ │ │   │   ┌──► с             case\n",
      "│ │ │ │   │   │ ┌► рыночной      amod\n",
      "│ │ │ │ ┌─└──►└─└─ стоимостью    nmod\n",
      "│ │ │ │ │       ┌► 1             nummod\n",
      "│ │ │ │ │     ┌►└─ 286           nummod\n",
      "│ │ │ │ └────►└─── млрд          nmod\n",
      "│ │ │ └──────────► .             punct\n",
      "│ │ └────────────► доллар        nsubj\n",
      "│ │             ┌► Компанию      obj\n",
      "│ │       ┌───┌─└─ основали      \n",
      "│ │       │ ┌─└►┌─ 1             obl\n",
      "│ │       │ │   └► апреля        flat\n",
      "│ │       │ │   ┌► 1976          amod\n",
      "│ │       │ └──►└─ года          nmod\n",
      "│ │       └──►┌─┌─ Стив          nsubj\n",
      "│ │           │ └► Возняк        flat:name\n",
      "│ │           │ ┌► ,             punct\n",
      "│ │           └►└─ рональд       conj\n",
      "│ │           └──► уэйн          appos\n",
      "│ │         ┌────► ,             punct\n",
      "│ │         │ ┌►┌─ а             cc\n",
      "│ │         │ │ └► также         fixed\n",
      "└►│         └─└─┌─ Стив          conj\n",
      "  │             └► Джобс         flat:name\n",
      "  └──────────────► .             punct\n"
     ]
    }
   ],
   "source": [
    "sent.syntax.print()"
   ]
  },
  {
   "cell_type": "markdown",
   "metadata": {},
   "source": [
    "## Извлечение именованных сущностей"
   ]
  },
  {
   "cell_type": "code",
   "execution_count": 189,
   "metadata": {},
   "outputs": [
    {
     "name": "stdout",
     "output_type": "stream",
     "text": [
      "Сегодня эмблему компании наверняка узнаёт множество людей, ведь \n",
      "корпорация apple \n",
      "стала действительно одной из самых успешных компаний с рыночной \n",
      "стоимостью 1 286 млрд. доллар\n",
      "Компанию основали 1 апреля 1976 года Стив Возняк, рональд уэйн, а \n",
      "                                     PER────────                  \n",
      "также Стив Джобс. \n",
      "      PER───────  \n",
      "Первоначально троица занялась сборкой домашних компьютеров и выпуском \n",
      "собственных моделей ПК,\n",
      "но наибольший успех пришёлся именно на последние годы компании, когда \n",
      "Apple представила миру линейки \n",
      "ORG──                          \n",
      "своих мобильных продуктов — смартфоны iPhone и планшеты iPad. МВД \n",
      "                                                              ORG \n",
      "России. Москва. москва\n",
      "LOC───  LOC───        \n"
     ]
    }
   ],
   "source": [
    "from natasha import NewsNERTagger\n",
    "\n",
    "ner_tagger = NewsNERTagger(emb)\n",
    "doc.tag_ner(ner_tagger)\n",
    "doc.ner.print()"
   ]
  },
  {
   "cell_type": "code",
   "execution_count": 190,
   "metadata": {},
   "outputs": [
    {
     "data": {
      "text/plain": [
       "[Span(\n",
       "     start=214,\n",
       "     stop=225,\n",
       "     type='PER'\n",
       " ), Span(\n",
       "     start=249,\n",
       "     stop=259,\n",
       "     type='PER'\n",
       " ), Span(\n",
       "     start=426,\n",
       "     stop=431,\n",
       "     type='ORG'\n",
       " ), Span(\n",
       "     start=520,\n",
       "     stop=523,\n",
       "     type='ORG'\n",
       " ), Span(\n",
       "     start=524,\n",
       "     stop=530,\n",
       "     type='LOC'\n",
       " ), Span(\n",
       "     start=532,\n",
       "     stop=538,\n",
       "     type='LOC'\n",
       " )]"
      ]
     },
     "execution_count": 190,
     "metadata": {},
     "output_type": "execute_result"
    }
   ],
   "source": [
    "doc.ner.spans"
   ]
  },
  {
   "cell_type": "markdown",
   "metadata": {},
   "source": [
    "### Лематизация"
   ]
  },
  {
   "cell_type": "code",
   "execution_count": 191,
   "metadata": {},
   "outputs": [],
   "source": [
    "from natasha import MorphVocab"
   ]
  },
  {
   "cell_type": "code",
   "execution_count": 192,
   "metadata": {},
   "outputs": [],
   "source": [
    "morph_vocab = MorphVocab()"
   ]
  },
  {
   "cell_type": "code",
   "execution_count": 193,
   "metadata": {},
   "outputs": [],
   "source": [
    "for token in doc.tokens:\n",
    "     token.lemmatize(morph_vocab)"
   ]
  },
  {
   "cell_type": "code",
   "execution_count": 194,
   "metadata": {
    "scrolled": false
   },
   "outputs": [
    {
     "data": {
      "text/plain": [
       "{'Сегодня': 'сегодня',\n",
       " 'эмблему': 'эмблема',\n",
       " 'компании': 'компания',\n",
       " 'наверняка': 'наверняка',\n",
       " 'узнаёт': 'узнавать',\n",
       " 'множество': 'множество',\n",
       " 'людей': 'человек',\n",
       " ',': ',',\n",
       " 'ведь': 'ведь',\n",
       " 'корпорация': 'корпорация',\n",
       " 'apple': 'apple',\n",
       " 'стала': 'стать',\n",
       " 'действительно': 'действительно',\n",
       " 'одной': 'один',\n",
       " 'из': 'из',\n",
       " 'самых': 'самый',\n",
       " 'успешных': 'успешный',\n",
       " 'компаний': 'компания',\n",
       " 'с': 'с',\n",
       " 'рыночной': 'рыночный',\n",
       " 'стоимостью': 'стоимость',\n",
       " '1': '1',\n",
       " '286': '286',\n",
       " 'млрд': 'млрд',\n",
       " '.': '.',\n",
       " 'доллар': 'доллар',\n",
       " 'Компанию': 'компания',\n",
       " 'основали': 'основать',\n",
       " 'апреля': 'апрель',\n",
       " '1976': '1976',\n",
       " 'года': 'год',\n",
       " 'Стив': 'стив',\n",
       " 'Возняк': 'возняк',\n",
       " 'рональд': 'рональд',\n",
       " 'уэйн': 'уэйн',\n",
       " 'а': 'а',\n",
       " 'также': 'также',\n",
       " 'Джобс': 'джобс',\n",
       " 'Первоначально': 'первоначально',\n",
       " 'троица': 'троица',\n",
       " 'занялась': 'заняться',\n",
       " 'сборкой': 'сборка',\n",
       " 'домашних': 'домашний',\n",
       " 'компьютеров': 'компьютер',\n",
       " 'и': 'и',\n",
       " 'выпуском': 'выпуск',\n",
       " 'собственных': 'собственный',\n",
       " 'моделей': 'модель',\n",
       " 'ПК': 'пк',\n",
       " 'но': 'но',\n",
       " 'наибольший': 'наибольший',\n",
       " 'успех': 'успех',\n",
       " 'пришёлся': 'прийтись',\n",
       " 'именно': 'именно',\n",
       " 'на': 'на',\n",
       " 'последние': 'последний',\n",
       " 'годы': 'год',\n",
       " 'когда': 'когда',\n",
       " 'Apple': 'apple',\n",
       " 'представила': 'представить',\n",
       " 'миру': 'мир',\n",
       " 'линейки': 'линейка',\n",
       " 'своих': 'свой',\n",
       " 'мобильных': 'мобильный',\n",
       " 'продуктов': 'продукт',\n",
       " '—': '—',\n",
       " 'смартфоны': 'смартфон',\n",
       " 'iPhone': 'iphone',\n",
       " 'планшеты': 'планшет',\n",
       " 'iPad': 'ipad',\n",
       " 'МВД': 'мвд',\n",
       " 'России': 'россия',\n",
       " 'Москва': 'москва',\n",
       " 'москва': 'москва'}"
      ]
     },
     "execution_count": 194,
     "metadata": {},
     "output_type": "execute_result"
    }
   ],
   "source": [
    "{_.text: _.lemma for _ in doc.tokens}"
   ]
  },
  {
   "cell_type": "code",
   "execution_count": null,
   "metadata": {},
   "outputs": [],
   "source": []
  },
  {
   "cell_type": "code",
   "execution_count": 195,
   "metadata": {},
   "outputs": [],
   "source": [
    "for span in doc.spans:\n",
    "    span.normalize(morph_vocab)"
   ]
  },
  {
   "cell_type": "code",
   "execution_count": 196,
   "metadata": {},
   "outputs": [
    {
     "data": {
      "text/plain": [
       "{'Стив Возняк': 'Стив Возняк',\n",
       " 'Стив Джобс': 'Стив Джобс',\n",
       " 'Apple': 'Apple',\n",
       " 'МВД': 'МВД',\n",
       " 'России': 'Россия',\n",
       " 'Москва': 'Москва'}"
      ]
     },
     "execution_count": 196,
     "metadata": {},
     "output_type": "execute_result"
    }
   ],
   "source": [
    "{_.text: _.normal for _ in doc.spans}"
   ]
  },
  {
   "cell_type": "code",
   "execution_count": 197,
   "metadata": {},
   "outputs": [
    {
     "data": {
      "text/plain": [
       "[DocSpan(start=214, stop=225, type='PER', text='Стив Возняк', tokens=[...], normal='Стив Возняк'),\n",
       " DocSpan(start=249, stop=259, type='PER', text='Стив Джобс', tokens=[...], normal='Стив Джобс'),\n",
       " DocSpan(start=426, stop=431, type='ORG', text='Apple', tokens=[...], normal='Apple')]"
      ]
     },
     "metadata": {},
     "output_type": "display_data"
    },
    {
     "data": {
      "text/plain": [
       "{'России': 'Россия'}"
      ]
     },
     "execution_count": 197,
     "metadata": {},
     "output_type": "execute_result"
    }
   ],
   "source": [
    "for span in doc.spans:\n",
    "    span.normalize(morph_vocab)\n",
    "display(doc.spans[:3])\n",
    "{_.text: _.normal for _ in doc.spans if _.text != _.normal}"
   ]
  },
  {
   "cell_type": "markdown",
   "metadata": {},
   "source": [
    "#### Имена"
   ]
  },
  {
   "cell_type": "code",
   "execution_count": 198,
   "metadata": {},
   "outputs": [],
   "source": [
    "from natasha import (PER,\n",
    "                     NamesExtractor)"
   ]
  },
  {
   "cell_type": "code",
   "execution_count": 199,
   "metadata": {},
   "outputs": [],
   "source": [
    "names_extractor = NamesExtractor(morph_vocab)"
   ]
  },
  {
   "cell_type": "code",
   "execution_count": 200,
   "metadata": {},
   "outputs": [
    {
     "name": "stdout",
     "output_type": "stream",
     "text": [
      "DocSpan(start=214, stop=225, type='PER', text='Стив Возняк', tokens=[...], normal='Стив Возняк')\n",
      "DocSpan(start=249, stop=259, type='PER', text='Стив Джобс', tokens=[...], normal='Стив Джобс')\n"
     ]
    }
   ],
   "source": [
    "for span in doc.spans:\n",
    "    if span.type == PER:\n",
    "        print(span)\n",
    "        span.extract_fact(names_extractor)"
   ]
  },
  {
   "cell_type": "code",
   "execution_count": 201,
   "metadata": {
    "scrolled": true
   },
   "outputs": [
    {
     "data": {
      "text/plain": [
       "{'Стив Возняк': {'first': 'Стив', 'last': 'Возняк'},\n",
       " 'Стив Джобс': {'first': 'Стив', 'last': 'Джобс'}}"
      ]
     },
     "execution_count": 201,
     "metadata": {},
     "output_type": "execute_result"
    }
   ],
   "source": [
    "{_.normal: _.fact.as_dict for _ in doc.spans if _.type == PER}"
   ]
  },
  {
   "cell_type": "markdown",
   "metadata": {},
   "source": [
    "#### Адреса"
   ]
  },
  {
   "cell_type": "code",
   "execution_count": 90,
   "metadata": {},
   "outputs": [],
   "source": [
    "from natasha import LOC"
   ]
  },
  {
   "cell_type": "code",
   "execution_count": 91,
   "metadata": {},
   "outputs": [],
   "source": [
    "for span in doc.spans:\n",
    "    span.normalize(morph_vocab)"
   ]
  },
  {
   "cell_type": "code",
   "execution_count": 92,
   "metadata": {},
   "outputs": [
    {
     "data": {
      "text/plain": [
       "{'Аргентине': 'Аргентина', 'Буэнос-Айрес': 'Буэнос-Айрес'}"
      ]
     },
     "execution_count": 92,
     "metadata": {},
     "output_type": "execute_result"
    }
   ],
   "source": [
    "{_.text: _.normal for _ in doc.spans if _.type == LOC}"
   ]
  },
  {
   "cell_type": "code",
   "execution_count": 94,
   "metadata": {},
   "outputs": [],
   "source": [
    "from natasha import AddrExtractor\n",
    "addr_extractor = AddrExtractor(morph_vocab)"
   ]
  },
  {
   "cell_type": "code",
   "execution_count": 95,
   "metadata": {},
   "outputs": [
    {
     "data": {
      "text/plain": [
       "Match(\n",
       "    start=0,\n",
       "    stop=48,\n",
       "    fact=Addr(\n",
       "        parts=[AddrPart(\n",
       "             value='Россия',\n",
       "             type='страна'\n",
       "         ), AddrPart(\n",
       "             value='Вологодская',\n",
       "             type='область'\n",
       "         ), AddrPart(\n",
       "             value='Череповец',\n",
       "             type='город'\n",
       "         ), AddrPart(\n",
       "             value='Победы',\n",
       "             type='проспект'\n",
       "         )]\n",
       "    )\n",
       ")"
      ]
     },
     "metadata": {},
     "output_type": "display_data"
    },
    {
     "data": {
      "text/plain": [
       "Match(\n",
       "    start=0,\n",
       "    stop=56,\n",
       "    fact=Addr(\n",
       "        parts=[AddrPart(\n",
       "             value='692909',\n",
       "             type='индекс'\n",
       "         ), AddrPart(\n",
       "             value='РФ',\n",
       "             type='страна'\n",
       "         ), AddrPart(\n",
       "             value='Приморский',\n",
       "             type='край'\n",
       "         ), AddrPart(\n",
       "             value='Находка',\n",
       "             type='город'\n",
       "         ), AddrPart(\n",
       "             value='Добролюбова',\n",
       "             type='улица'\n",
       "         )]\n",
       "    )\n",
       ")"
      ]
     },
     "metadata": {},
     "output_type": "display_data"
    },
    {
     "data": {
      "text/plain": [
       "Match(\n",
       "    start=0,\n",
       "    stop=29,\n",
       "    fact=Addr(\n",
       "        parts=[AddrPart(\n",
       "             value='Народного Ополчения',\n",
       "             type='улица'\n",
       "         ), AddrPart(\n",
       "             value='9к',\n",
       "             type='дом'\n",
       "         )]\n",
       "    )\n",
       ")"
      ]
     },
     "metadata": {},
     "output_type": "display_data"
    }
   ],
   "source": [
    "lines = [\n",
    "    'Россия, Вологодская обл. г. Череповец, пр.Победы 93 б',\n",
    "    '692909, РФ, Приморский край, г. Находка, ул. Добролюбова, 18',\n",
    "    'ул. Народного Ополчения д. 9к.3'\n",
    "]\n",
    "for line in lines:\n",
    "    display(addr_extractor.find(line))"
   ]
  },
  {
   "cell_type": "markdown",
   "metadata": {},
   "source": [
    "#### Даты"
   ]
  },
  {
   "cell_type": "code",
   "execution_count": 96,
   "metadata": {},
   "outputs": [],
   "source": [
    "from natasha import DatesExtractor\n",
    "dates_extractor = DatesExtractor(morph_vocab)"
   ]
  },
  {
   "cell_type": "code",
   "execution_count": 104,
   "metadata": {},
   "outputs": [
    {
     "data": {
      "text/plain": [
       "[Match(\n",
       "     start=83,\n",
       "     stop=103,\n",
       "     fact=Date(\n",
       "         year=1986,\n",
       "         month=2,\n",
       "         day=11\n",
       "     )\n",
       " )]"
      ]
     },
     "execution_count": 104,
     "metadata": {},
     "output_type": "execute_result"
    }
   ],
   "source": [
    "list(dates_extractor(text))"
   ]
  },
  {
   "cell_type": "markdown",
   "metadata": {},
   "source": [
    "#### Money"
   ]
  },
  {
   "cell_type": "code",
   "execution_count": 105,
   "metadata": {},
   "outputs": [],
   "source": [
    "from natasha import MoneyExtractor\n",
    "money_extractor = MoneyExtractor(morph_vocab)"
   ]
  },
  {
   "cell_type": "code",
   "execution_count": 106,
   "metadata": {},
   "outputs": [
    {
     "data": {
      "text/plain": [
       "[]"
      ]
     },
     "execution_count": 106,
     "metadata": {},
     "output_type": "execute_result"
    }
   ],
   "source": [
    "list(money_extractor(text))"
   ]
  },
  {
   "cell_type": "code",
   "execution_count": 107,
   "metadata": {},
   "outputs": [],
   "source": [
    "text = '''1 599 059, 38 Евро, 420 долларов, 20 млн руб, 20 т. р., \n",
    "881 913 (Восемьсот восемьдесят одна тысяча девятьсот тринадцать) руб. 98 коп.'''"
   ]
  },
  {
   "cell_type": "code",
   "execution_count": 108,
   "metadata": {},
   "outputs": [
    {
     "data": {
      "text/plain": [
       "[Match(\n",
       "     start=0,\n",
       "     stop=18,\n",
       "     fact=Money(\n",
       "         amount=1599059.38,\n",
       "         currency='EUR'\n",
       "     )\n",
       " ), Match(\n",
       "     start=20,\n",
       "     stop=32,\n",
       "     fact=Money(\n",
       "         amount=420,\n",
       "         currency='USD'\n",
       "     )\n",
       " ), Match(\n",
       "     start=34,\n",
       "     stop=44,\n",
       "     fact=Money(\n",
       "         amount=20000000,\n",
       "         currency='RUB'\n",
       "     )\n",
       " ), Match(\n",
       "     start=46,\n",
       "     stop=54,\n",
       "     fact=Money(\n",
       "         amount=20000,\n",
       "         currency='RUB'\n",
       "     )\n",
       " ), Match(\n",
       "     start=57,\n",
       "     stop=134,\n",
       "     fact=Money(\n",
       "         amount=881913.98,\n",
       "         currency='RUB'\n",
       "     )\n",
       " )]"
      ]
     },
     "execution_count": 108,
     "metadata": {},
     "output_type": "execute_result"
    }
   ],
   "source": [
    "list(money_extractor(text))"
   ]
  },
  {
   "cell_type": "code",
   "execution_count": 122,
   "metadata": {},
   "outputs": [],
   "source": [
    "text = '''Сегодня эмблему компании наверняка узнаёт множество людей, ведь корпорация Apple \n",
    "стала действительно одной из самых успешных компаний с рыночной стоимостью 1 286 млрд. доллар\n",
    "\n",
    "Компанию основали 1 апреля 1976 года Стив Возняк, Рональд Уэйн, а также Стив Джобс. \n",
    "Первоначально троица занялась сборкой домашних компьютеров и выпуском собственных моделей ПК,\n",
    "но наибольший успех пришёлся именно на последние годы компании, когда Apple представила миру линейки \n",
    "своих мобильных продуктов — смартфоны iPhone и планшеты iPad. МВД России'''"
   ]
  },
  {
   "cell_type": "code",
   "execution_count": 123,
   "metadata": {},
   "outputs": [
    {
     "data": {
      "text/plain": [
       "[Match(\n",
       "     start=157,\n",
       "     stop=175,\n",
       "     fact=Money(\n",
       "         amount=1286000000000,\n",
       "         currency='USD'\n",
       "     )\n",
       " )]"
      ]
     },
     "execution_count": 123,
     "metadata": {},
     "output_type": "execute_result"
    }
   ],
   "source": [
    "list(money_extractor(text))"
   ]
  },
  {
   "cell_type": "markdown",
   "metadata": {},
   "source": [
    "### ORG"
   ]
  },
  {
   "cell_type": "code",
   "execution_count": 117,
   "metadata": {},
   "outputs": [],
   "source": [
    "from natasha import (Segmenter,\n",
    "                     NewsEmbedding,\n",
    "                     NewsMorphTagger,\n",
    "                     NewsSyntaxParser,\n",
    "                     Doc)"
   ]
  },
  {
   "cell_type": "code",
   "execution_count": 124,
   "metadata": {},
   "outputs": [],
   "source": [
    "segmenter = Segmenter()\n",
    "\n",
    "emb = NewsEmbedding()\n",
    "\n",
    "morph_tagger = NewsMorphTagger(emb)\n",
    "\n",
    "syntax_parser = NewsSyntaxParser(emb)"
   ]
  },
  {
   "cell_type": "code",
   "execution_count": 125,
   "metadata": {},
   "outputs": [],
   "source": [
    "doc = Doc(text)"
   ]
  },
  {
   "cell_type": "code",
   "execution_count": 126,
   "metadata": {},
   "outputs": [],
   "source": [
    "doc.segment(segmenter)\n",
    "doc.tag_morph(morph_tagger)\n",
    "doc.parse_syntax(syntax_parser)"
   ]
  },
  {
   "cell_type": "code",
   "execution_count": 127,
   "metadata": {},
   "outputs": [
    {
     "name": "stdout",
     "output_type": "stream",
     "text": [
      "Сегодня эмблему компании наверняка узнаёт множество людей, ведь \n",
      "корпорация Apple \n",
      "           ORG── \n",
      "стала действительно одной из самых успешных компаний с рыночной \n",
      "стоимостью 1 286 млрд. доллар\n",
      "Компанию основали 1 апреля 1976 года Стив Возняк, Рональд Уэйн, а \n",
      "                                     PER────────  PER─────────    \n",
      "также Стив Джобс. \n",
      "      PER───────  \n",
      "Первоначально троица занялась сборкой домашних компьютеров и выпуском \n",
      "собственных моделей ПК,\n",
      "но наибольший успех пришёлся именно на последние годы компании, когда \n",
      "Apple представила миру линейки \n",
      "ORG──                          \n",
      "своих мобильных продуктов — смартфоны iPhone и планшеты iPad. МВД \n",
      "                                                              ORG \n",
      "России\n",
      "LOC───\n"
     ]
    }
   ],
   "source": [
    "ner_tagger = NewsNERTagger(emb)\n",
    "doc.tag_ner(ner_tagger)\n",
    "doc.ner.print()"
   ]
  },
  {
   "cell_type": "markdown",
   "metadata": {},
   "source": [
    "[Самая свежая статья на habr по natasha](https://habr.com/ru/post/516098/) <br>\n",
    "<br>\n",
    "[git](https://github.com/natasha/natasha)"
   ]
  },
  {
   "cell_type": "code",
   "execution_count": null,
   "metadata": {},
   "outputs": [],
   "source": []
  }
 ],
 "metadata": {
  "kernelspec": {
   "display_name": "Python 3",
   "language": "python",
   "name": "python3"
  },
  "language_info": {
   "codemirror_mode": {
    "name": "ipython",
    "version": 3
   },
   "file_extension": ".py",
   "mimetype": "text/x-python",
   "name": "python",
   "nbconvert_exporter": "python",
   "pygments_lexer": "ipython3",
   "version": "3.6.5"
  }
 },
 "nbformat": 4,
 "nbformat_minor": 2
}
